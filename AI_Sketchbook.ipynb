{
  "nbformat": 4,
  "nbformat_minor": 0,
  "metadata": {
    "colab": {
      "provenance": [],
      "gpuType": "T4",
      "authorship_tag": "ABX9TyM+mUQ+FPrrYpHOF80njNot",
      "include_colab_link": true
    },
    "kernelspec": {
      "name": "python3",
      "display_name": "Python 3"
    },
    "language_info": {
      "name": "python"
    },
    "accelerator": "GPU"
  },
  "cells": [
    {
      "cell_type": "markdown",
      "metadata": {
        "id": "view-in-github",
        "colab_type": "text"
      },
      "source": [
        "<a href=\"https://colab.research.google.com/github/VeraVol42/Text-to-Image_Generator_AI_Sketchbook/blob/main/AI_Sketchbook.ipynb\" target=\"_parent\"><img src=\"https://colab.research.google.com/assets/colab-badge.svg\" alt=\"Open In Colab\"/></a>"
      ]
    },
    {
      "cell_type": "markdown",
      "source": [
        "1. Let's install everything we need: PyTorch, diffusers (Stable Diffusion) and Gradio for the interface."
      ],
      "metadata": {
        "id": "lsR3yeRWjxLa"
      }
    },
    {
      "cell_type": "code",
      "execution_count": null,
      "metadata": {
        "id": "mh0az7OcjM_H"
      },
      "outputs": [],
      "source": [
        "!pip install torch torchvision torchaudio\n",
        "!pip install diffusers transformers accelerate\n",
        "!pip install gradio\n"
      ]
    },
    {
      "cell_type": "markdown",
      "source": [
        "2. Login to Hugging Face"
      ],
      "metadata": {
        "id": "z3AfaRu_kD9P"
      }
    },
    {
      "cell_type": "code",
      "source": [
        "from huggingface_hub import notebook_login\n",
        "notebook_login()\n"
      ],
      "metadata": {
        "id": "kMl0VT48jsC4"
      },
      "execution_count": null,
      "outputs": []
    },
    {
      "cell_type": "markdown",
      "source": [
        "3. Download the Stable Diffusion 1.5 model"
      ],
      "metadata": {
        "id": "yO8gIG5InCj9"
      }
    },
    {
      "cell_type": "code",
      "source": [
        "from diffusers import StableDiffusionPipeline\n",
        "\n",
        "pipeline = StableDiffusionPipeline.from_pretrained(\"runwayml/stable-diffusion-v1-5\")\n",
        "pipeline.to(\"cuda\")  # Используем GPU\n"
      ],
      "metadata": {
        "id": "B9g4BtQ_nAG-"
      },
      "execution_count": null,
      "outputs": []
    },
    {
      "cell_type": "markdown",
      "source": [
        "4. Interface with Gradio"
      ],
      "metadata": {
        "id": "ONj86VE-nMtF"
      }
    },
    {
      "cell_type": "code",
      "source": [
        "import gradio as gr\n",
        "from datetime import datetime\n",
        "\n",
        "# Image generation function\n",
        "def generate_image(prompt, guidance_scale=7.5, steps=30):\n",
        "    # Image generation\n",
        "    image = pipeline(prompt, guidance_scale=guidance_scale, num_inference_steps=steps).images[0]\n",
        "\n",
        "    # Saving an image with a timestamp\n",
        "    timestamp = datetime.now().strftime(\"%Y%m%d-%H%M%S\")\n",
        "    save_path = f\"generated_image_{timestamp}.png\"\n",
        "    image.save(save_path)\n",
        "\n",
        "    return image, save_path  # Return the image and download path\n",
        "\n",
        "# Interface with Gradio\n",
        "interface = gr.Interface(\n",
        "    fn=generate_image,\n",
        "    inputs=[\n",
        "        gr.Textbox(label=\"Prompt\"),\n",
        "        gr.Slider(1, 20, value=7.5, step=0.1, label=\"Guidance Scale\"),  # Setting up guidance scale\n",
        "        gr.Slider(10, 50, value=30, step=1, label=\"Steps\")  # Number of generation steps\n",
        "    ],\n",
        "    outputs=[\n",
        "        gr.Image(label=\"Generated image\"),  # Image output\n",
        "        gr.File(label=\"Download image\")  # Download button\n",
        "    ],\n",
        "    title=\"AI Sketchbook - Image Generator\",\n",
        "    description=\"Enter text and configure generation parameters\"\n",
        ")\n",
        "\n",
        "# Launch the application (with public link)\n",
        "interface.launch(share=True)"
      ],
      "metadata": {
        "id": "QT889z3UnOPe"
      },
      "execution_count": null,
      "outputs": []
    },
    {
      "cell_type": "markdown",
      "source": [],
      "metadata": {
        "id": "XLWdpZe1nRZ3"
      }
    }
  ]
}